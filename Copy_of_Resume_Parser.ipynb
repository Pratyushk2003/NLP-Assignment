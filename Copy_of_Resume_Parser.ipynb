{
  "nbformat": 4,
  "nbformat_minor": 0,
  "metadata": {
    "colab": {
      "provenance": [],
      "include_colab_link": true
    },
    "kernelspec": {
      "name": "python3",
      "display_name": "Python 3"
    },
    "language_info": {
      "name": "python"
    },
    "accelerator": "GPU"
  },
  "cells": [
    {
      "cell_type": "markdown",
      "metadata": {
        "id": "view-in-github",
        "colab_type": "text"
      },
      "source": [
        "<a href=\"https://colab.research.google.com/github/Pratyushk2003/NLP-Assignment/blob/main/Copy_of_Resume_Parser.ipynb\" target=\"_parent\"><img src=\"https://colab.research.google.com/assets/colab-badge.svg\" alt=\"Open In Colab\"/></a>"
      ]
    },
    {
      "cell_type": "markdown",
      "source": [
        "Resume Parser"
      ],
      "metadata": {
        "id": "x-vBp4WR5GaU"
      }
    },
    {
      "cell_type": "code",
      "source": [
        "import numpy as np # linear algebra\n",
        "import pandas as pd # data processing, CSV file I/O (e.g. pd.read_csv)\n",
        "import spacy\n",
        "import pickle\n",
        "import random"
      ],
      "metadata": {
        "id": "Eigq9ZHW5ILC"
      },
      "execution_count": null,
      "outputs": []
    },
    {
      "cell_type": "code",
      "source": [
        "data = pickle.load(open('data.pkl','rb'))\n",
        "data[0]"
      ],
      "metadata": {
        "colab": {
          "base_uri": "https://localhost:8080/"
        },
        "id": "S0tH6ayH5NIR",
        "outputId": "f1e68463-78ba-42cf-9d29-ca7ecdcedbb2"
      },
      "execution_count": null,
      "outputs": [
        {
          "output_type": "execute_result",
          "data": {
            "text/plain": [
              "('Govardhana K Senior Software Engineer  Bengaluru, Karnataka, Karnataka - Email me on Indeed: indeed.com/r/Govardhana-K/ b2de315d95905b68  Total IT experience 5 Years 6 Months Cloud Lending Solutions INC 4 Month • Salesforce Developer Oracle 5 Years 2 Month • Core Java Developer Languages Core Java, Go Lang Oracle PL-SQL programming, Sales Force Developer with APEX.  Designations & Promotions  Willing to relocate: Anywhere  WORK EXPERIENCE  Senior Software Engineer  Cloud Lending Solutions -  Bangalore, Karnataka -  January 2018 to Present  Present  Senior Consultant  Oracle -  Bangalore, Karnataka -  November 2016 to December 2017  Staff Consultant  Oracle -  Bangalore, Karnataka -  January 2014 to October 2016  Associate Consultant  Oracle -  Bangalore, Karnataka -  November 2012 to December 2013  EDUCATION  B.E in Computer Science Engineering  Adithya Institute of Technology -  Tamil Nadu  September 2008 to June 2012  https://www.indeed.com/r/Govardhana-K/b2de315d95905b68?isid=rex-download&ikw=download-top&co=IN https://www.indeed.com/r/Govardhana-K/b2de315d95905b68?isid=rex-download&ikw=download-top&co=IN   SKILLS  APEX. (Less than 1 year), Data Structures (3 years), FLEXCUBE (5 years), Oracle (5 years), Algorithms (3 years)  LINKS  https://www.linkedin.com/in/govardhana-k-61024944/  ADDITIONAL INFORMATION  Technical Proficiency:  Languages: Core Java, Go Lang, Data Structures & Algorithms, Oracle PL-SQL programming, Sales Force with APEX. Tools: RADTool, Jdeveloper, NetBeans, Eclipse, SQL developer, PL/SQL Developer, WinSCP, Putty Web Technologies: JavaScript, XML, HTML, Webservice  Operating Systems: Linux, Windows Version control system SVN & Git-Hub Databases: Oracle Middleware: Web logic, OC4J Product FLEXCUBE: Oracle FLEXCUBE Versions 10.x, 11.x and 12.x  https://www.linkedin.com/in/govardhana-k-61024944/',\n",
              " {'entities': [(1749, 1755, 'Companies worked at'),\n",
              "   (1696, 1702, 'Companies worked at'),\n",
              "   (1417, 1423, 'Companies worked at'),\n",
              "   (1356, 1793, 'Skills'),\n",
              "   (1209, 1215, 'Companies worked at'),\n",
              "   (1136, 1248, 'Skills'),\n",
              "   (928, 932, 'Graduation Year'),\n",
              "   (858, 889, 'College Name'),\n",
              "   (821, 856, 'Degree'),\n",
              "   (787, 791, 'Graduation Year'),\n",
              "   (744, 750, 'Companies worked at'),\n",
              "   (722, 742, 'Designation'),\n",
              "   (658, 664, 'Companies worked at'),\n",
              "   (640, 656, 'Designation'),\n",
              "   (574, 580, 'Companies worked at'),\n",
              "   (555, 573, 'Designation'),\n",
              "   (470, 493, 'Companies worked at'),\n",
              "   (444, 469, 'Designation'),\n",
              "   (308, 314, 'Companies worked at'),\n",
              "   (234, 240, 'Companies worked at'),\n",
              "   (175, 198, 'Companies worked at'),\n",
              "   (93, 137, 'Email Address'),\n",
              "   (39, 48, 'Location'),\n",
              "   (13, 38, 'Designation'),\n",
              "   (0, 12, 'Name')]})"
            ]
          },
          "metadata": {},
          "execution_count": 15
        }
      ]
    },
    {
      "cell_type": "code",
      "source": [
        "import spacy\n",
        "import random\n",
        "\n",
        "# Load Blank Model\n",
        "nlp = spacy.blank('en')\n",
        "\n",
        "def training(data):\n",
        "    # Remove all pipelines and add NER pipeline from the model\n",
        "    if 'ner' not in nlp.pipe_names:\n",
        "        ner = nlp.create_pipe('ner')\n",
        "        # adding NER pipeline to nlp model\n",
        "        nlp.add_pipe('ner', last=True)  # Use 'ner' as a string\n",
        "\n",
        "    # Add labels in the NLP pipeline\n",
        "    for _, annotation in data:\n",
        "        for ent in annotation.get('entities'):\n",
        "            ner.add_label(ent[2])\n",
        "\n",
        "    # Remove other pipelines if they are there\n",
        "    other_pipes = [pipe for pipe in nlp.pipe_names if pipe != 'ner']\n",
        "    with nlp.disable_pipes(*other_pipes):  # only train NER\n",
        "        optimizer = nlp.begin_training()\n",
        "        for itn in range(30):  # train for 30 iterations\n",
        "            print(\"Starting iteration \" + str(itn))\n",
        "            random.shuffle(data)\n",
        "            losses = {}\n",
        "            index = 0\n",
        "            for text, annotations in data:\n",
        "                try:\n",
        "                    nlp.update(\n",
        "                        [text],  # batch of texts\n",
        "                        [annotations],  # batch of annotations\n",
        "                        drop=0.2,  # dropout - make it harder to memorize data\n",
        "                        sgd=optimizer,  # callable to update weights\n",
        "                        losses=losses)\n",
        "                except Exception as e:\n",
        "                    pass\n",
        "\n",
        "            print(losses)\n",
        "\n",
        "# Start Training model\n",
        "training(data)\n"
      ],
      "metadata": {
        "colab": {
          "base_uri": "https://localhost:8080/"
        },
        "id": "SEKSUpGT5N0B",
        "outputId": "8962ac88-4e54-4ae4-8623-16c63d92a5f3"
      },
      "execution_count": null,
      "outputs": [
        {
          "output_type": "stream",
          "name": "stdout",
          "text": [
            "Starting iteration 0\n",
            "{}\n",
            "Starting iteration 1\n",
            "{}\n",
            "Starting iteration 2\n",
            "{}\n",
            "Starting iteration 3\n",
            "{}\n",
            "Starting iteration 4\n",
            "{}\n",
            "Starting iteration 5\n",
            "{}\n",
            "Starting iteration 6\n",
            "{}\n",
            "Starting iteration 7\n",
            "{}\n",
            "Starting iteration 8\n",
            "{}\n",
            "Starting iteration 9\n",
            "{}\n",
            "Starting iteration 10\n",
            "{}\n",
            "Starting iteration 11\n",
            "{}\n",
            "Starting iteration 12\n",
            "{}\n",
            "Starting iteration 13\n",
            "{}\n",
            "Starting iteration 14\n",
            "{}\n",
            "Starting iteration 15\n",
            "{}\n",
            "Starting iteration 16\n",
            "{}\n",
            "Starting iteration 17\n",
            "{}\n",
            "Starting iteration 18\n",
            "{}\n",
            "Starting iteration 19\n",
            "{}\n",
            "Starting iteration 20\n",
            "{}\n",
            "Starting iteration 21\n",
            "{}\n",
            "Starting iteration 22\n",
            "{}\n",
            "Starting iteration 23\n",
            "{}\n",
            "Starting iteration 24\n",
            "{}\n",
            "Starting iteration 25\n",
            "{}\n",
            "Starting iteration 26\n",
            "{}\n",
            "Starting iteration 27\n",
            "{}\n",
            "Starting iteration 28\n",
            "{}\n",
            "Starting iteration 29\n",
            "{}\n"
          ]
        }
      ]
    },
    {
      "cell_type": "code",
      "source": [
        "nlp.to_disk('nlp_ner_model')"
      ],
      "metadata": {
        "id": "zAeQIvRIAhkW"
      },
      "execution_count": null,
      "outputs": []
    },
    {
      "cell_type": "code",
      "source": [
        "#Loading Model\n",
        "nlp_model = spacy.load('nlp_ner_model')"
      ],
      "metadata": {
        "id": "m3zNnkKSAkpc"
      },
      "execution_count": null,
      "outputs": []
    },
    {
      "cell_type": "code",
      "source": [
        "# trying and seeing the prediction of the model\n",
        "doc = nlp_model(data[0][0])\n",
        "for ent in doc.ents:\n",
        "    print(f\"{ent.label_.upper():{30}}-{ent.text}\")"
      ],
      "metadata": {
        "id": "5t5PzJMoAkrw"
      },
      "execution_count": null,
      "outputs": []
    },
    {
      "cell_type": "code",
      "source": [
        "!pip install PyMuPDF\n"
      ],
      "metadata": {
        "colab": {
          "base_uri": "https://localhost:8080/"
        },
        "id": "u_Wmw13aAkvC",
        "outputId": "75d78ee9-14a0-4d88-cc20-37f1311bf6e4"
      },
      "execution_count": null,
      "outputs": [
        {
          "output_type": "stream",
          "name": "stdout",
          "text": [
            "Collecting PyMuPDF\n",
            "  Downloading PyMuPDF-1.23.5-cp310-none-manylinux2014_x86_64.whl (4.3 MB)\n",
            "\u001b[2K     \u001b[90m━━━━━━━━━━━━━━━━━━━━━━━━━━━━━━━━━━━━━━━━\u001b[0m \u001b[32m4.3/4.3 MB\u001b[0m \u001b[31m37.8 MB/s\u001b[0m eta \u001b[36m0:00:00\u001b[0m\n",
            "\u001b[?25hCollecting PyMuPDFb==1.23.5 (from PyMuPDF)\n",
            "  Downloading PyMuPDFb-1.23.5-py3-none-manylinux2014_x86_64.manylinux_2_17_x86_64.whl (30.6 MB)\n",
            "\u001b[2K     \u001b[90m━━━━━━━━━━━━━━━━━━━━━━━━━━━━━━━━━━━━━━━━\u001b[0m \u001b[32m30.6/30.6 MB\u001b[0m \u001b[31m60.5 MB/s\u001b[0m eta \u001b[36m0:00:00\u001b[0m\n",
            "\u001b[?25hInstalling collected packages: PyMuPDFb, PyMuPDF\n",
            "Successfully installed PyMuPDF-1.23.5 PyMuPDFb-1.23.5\n"
          ]
        }
      ]
    },
    {
      "cell_type": "code",
      "source": [
        "import sys, fitz\n",
        "fname = '/content/Chirag_IIITN_Resume.pdf'\n",
        "doc = fitz.open(fname)\n",
        "text = \"\"\n",
        "for page in doc:\n",
        "    text = text + str(page.get_text())\n",
        "art = \" \".join(text.split('\\n'))\n",
        "print(art)"
      ],
      "metadata": {
        "colab": {
          "base_uri": "https://localhost:8080/"
        },
        "id": "4-539SE7Akxe",
        "outputId": "7c9fe57f-3a58-46da-dc73-77ac04ecfbfb"
      },
      "execution_count": null,
      "outputs": [
        {
          "output_type": "stream",
          "name": "stdout",
          "text": [
            "Chirag Garg chiraggarg892000@gmail.com | +91 7705819818 | Lucknow Linkedin | LeetCode | GitHub Education Indian Institute of Information Technology, Nagpur Nagpur, MH B.Tech Computer Science And Engineering December 2020 - June 2024 CGPA: 9.03 St. Paul's College Lucknow, UP Intermediate PCM with CS March 2018 - May 2019 Percentage: 97% St. Paul's College Lucknow, UP High School March 2016 - May 2017 Percentage: 95.4% Experience Tata Research Development and Design Centre | Research Intern Pune, India | June 2023 - Present • Working on Information Extraction for the Design of Formulated Products. • Tech stack used: Python, Langchain Skills Programming Languages: HTML, CSS, C/C++, Python, Javascript Libraries/Frameworks: Node.js, Numpy, Pandas, Matplotlib, Flask, Langchain Coursework: Data Structures and Algorithms, DBMS, Object-Oriented Programming (OOPs), Operating System, Computer Networks Tools / Platforms: Git, Github, Linux Databases: SQL Projects LLM-Powered Multi-Modal QnA System | Link Python, Langchain, FAISS, OpenAI Whisper • Developed a Langchain-powered system for querying diverse personal data. • Implemented a pipeline to extract and preprocess text, audio, and image data from different file formats and convert them into suitable representations for the LLM. • Utilized a vector database to efficiently store data embeddings and enabled accurate retrieval of relevant documents. • Integrated OpenAI Whisper for advanced language understanding, enhancing response accuracy. NarrativeNook | Link Flask, CSS, HTML, Bootstrap • Engineered a feature-rich blog website by skillfully combining Flask, HTML, CSS, and Bootstrap. • Implemented user authentication, CRUD functionality for posts, and a password recovery system, facilitating users with a secure and user-friendly process to regain access. • Demonstrated modular coding approach for maintainability. Movie Recommendation System | Link Python, Numpy, Pandas, Sklearn • Designed a movie recommendation system using the Cosine Similarity algorithm to predict user ratings and provide personalized movie suggestions. • The project involved data pre-processing, feature extraction, Cosine Similarity algorithm, and evaluation. ACHIEVEMENTS Secured Global rank 121th in Codechef Starters 7. Teaching Assistant at IIITN. Guided 300+ freshers to DSA and Competetive programming. Among top 60 students to qualify for Regional Mathematics Olympiad (RMO) from 10k+ participants. Academic Rank 1 in College's First year. Volunteering Club Lead at Skills Nights and Development Wing.Managed various Club Events and organized several hackathons, mentorship sessions and quizzes with the team. Organising Team Member at Tantrafiesta \n"
          ]
        }
      ]
    },
    {
      "cell_type": "code",
      "source": [
        "# Applying the model\n",
        "doc = nlp_model(art)\n",
        "list1=[]\n",
        "list2 = []\n",
        "for ent in doc.ents:\n",
        "    list1.append(ent.label_.upper())\n",
        "    list2.append(ent.text)\n",
        "dictionary = dict(zip(list1, list2))\n",
        "dictionary"
      ],
      "metadata": {
        "colab": {
          "base_uri": "https://localhost:8080/"
        },
        "id": "tUG27Ev6AkzA",
        "outputId": "88bbfd6a-ec2c-4ab9-b023-d8ad7fbfc00e"
      },
      "execution_count": null,
      "outputs": [
        {
          "output_type": "execute_result",
          "data": {
            "text/plain": [
              "{}"
            ]
          },
          "metadata": {},
          "execution_count": 31
        }
      ]
    },
    {
      "cell_type": "code",
      "source": [
        "import json\n",
        "\n",
        "# Serializing jsona\n",
        "json_object = json.dumps(dictionary, indent = 4)\n",
        "print(json_object)"
      ],
      "metadata": {
        "colab": {
          "base_uri": "https://localhost:8080/"
        },
        "id": "AuffKdJGA7R3",
        "outputId": "402c2c6d-a2b4-4e1b-9f80-507bf4ae6f8c"
      },
      "execution_count": null,
      "outputs": [
        {
          "output_type": "stream",
          "name": "stdout",
          "text": [
            "{}\n"
          ]
        }
      ]
    }
  ]
}