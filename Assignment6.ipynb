{
  "nbformat": 4,
  "nbformat_minor": 0,
  "metadata": {
    "colab": {
      "provenance": [],
      "authorship_tag": "ABX9TyMfuEG4cvIKQpmD4B4jW75M",
      "include_colab_link": true
    },
    "kernelspec": {
      "name": "python3",
      "display_name": "Python 3"
    },
    "language_info": {
      "name": "python"
    }
  },
  "cells": [
    {
      "cell_type": "markdown",
      "metadata": {
        "id": "view-in-github",
        "colab_type": "text"
      },
      "source": [
        "<a href=\"https://colab.research.google.com/github/Pratyushk2003/NLP-Assignment/blob/main/Assignment6.ipynb\" target=\"_parent\"><img src=\"https://colab.research.google.com/assets/colab-badge.svg\" alt=\"Open In Colab\"/></a>"
      ]
    },
    {
      "cell_type": "code",
      "execution_count": 1,
      "metadata": {
        "colab": {
          "base_uri": "https://localhost:8080/"
        },
        "id": "vrcFdjmvB1lf",
        "outputId": "f4d7f79f-9d4e-4fde-8c60-b14f9183cd38"
      },
      "outputs": [
        {
          "output_type": "stream",
          "name": "stdout",
          "text": [
            "King is to Man as Woman is to One or more of the words are not in the vocabulary.\n",
            "Words similar to 'delicious': varied, extensive, fast, yummy, Japanese, Asian, asian, bar,, comprehensive, ample\n"
          ]
        }
      ],
      "source": [
        "import gensim\n",
        "from gensim.models import Word2Vec\n",
        "\n",
        "# Load and preprocess your corpus with the correct encoding (e.g., 'latin-1' or 'ISO-8859-1')\n",
        "with open('/content/reviews_data.txt', 'r', encoding='latin-1') as file:\n",
        "    corpus = [line.strip().split() for line in file]\n",
        "\n",
        "# Train a Word2Vec model\n",
        "model = Word2Vec(sentences=corpus, vector_size=100, window=5,\n",
        "                 min_count=1, sg=0)  # Adjust parameters as needed\n",
        "\n",
        "# Task 1: Predict relationships among words using your trained model\n",
        "\n",
        "\n",
        "def predict_word_relationship(word1, word2, word3):\n",
        "    try:\n",
        "        # Calculate the relationship vector\n",
        "        relationship_vector = model.wv[word2] - \\\n",
        "            model.wv[word1] + model.wv[word3]\n",
        "\n",
        "        # Find the most similar word to the relationship vector\n",
        "        predicted_word = model.wv.most_similar(\n",
        "            positive=[relationship_vector], topn=1)[0][0]\n",
        "        return predicted_word\n",
        "    except KeyError:\n",
        "        return \"One or more of the words are not in the vocabulary.\"\n",
        "\n",
        "\n",
        "# Example usage for Task 1:\n",
        "word1 = \"King\"\n",
        "word2 = \"Man\"\n",
        "word3 = \"Woman\"\n",
        "predicted_word = predict_word_relationship(word1, word2, word3)\n",
        "print(f\"{word1} is to {word2} as {word3} is to {predicted_word}\")\n",
        "\n",
        "# Task 2: Find contextually similar words using your trained model\n",
        "\n",
        "\n",
        "def find_similar_words(input_word, topn=10):\n",
        "    try:\n",
        "        similar_words = model.wv.most_similar(input_word, topn=topn)\n",
        "        return [word for word, score in similar_words]\n",
        "    except KeyError:\n",
        "        return \"The input word is not in the vocabulary.\"\n",
        "\n",
        "\n",
        "# Example usage for Task 2:\n",
        "input_word = \"delicious\"\n",
        "similar_words = find_similar_words(input_word)\n",
        "print(f\"Words similar to '{input_word}': {', '.join(similar_words)}\")"
      ]
    }
  ]
}