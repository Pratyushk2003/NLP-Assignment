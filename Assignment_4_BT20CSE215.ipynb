{
  "nbformat": 4,
  "nbformat_minor": 0,
  "metadata": {
    "colab": {
      "provenance": [],
      "authorship_tag": "ABX9TyMjc5ac3BVUFVuS+SCWz4Zk",
      "include_colab_link": true
    },
    "kernelspec": {
      "name": "python3",
      "display_name": "Python 3"
    },
    "language_info": {
      "name": "python"
    }
  },
  "cells": [
    {
      "cell_type": "markdown",
      "metadata": {
        "id": "view-in-github",
        "colab_type": "text"
      },
      "source": [
        "<a href=\"https://colab.research.google.com/github/Pratyushk2003/NLP-Assignment/blob/main/Assignment_4_BT20CSE215.ipynb\" target=\"_parent\"><img src=\"https://colab.research.google.com/assets/colab-badge.svg\" alt=\"Open In Colab\"/></a>"
      ]
    },
    {
      "cell_type": "code",
      "execution_count": 21,
      "metadata": {
        "colab": {
          "base_uri": "https://localhost:8080/"
        },
        "id": "DWelgCzLDSxl",
        "outputId": "f0e76432-d9db-46a5-9dcf-1958092a7f1d"
      },
      "outputs": [
        {
          "output_type": "stream",
          "name": "stdout",
          "text": [
            "Requirement already satisfied: docx2txt in /usr/local/lib/python3.10/dist-packages (0.8)\n",
            "Requirement already satisfied: nltk in /usr/local/lib/python3.10/dist-packages (3.8.1)\n",
            "Requirement already satisfied: click in /usr/local/lib/python3.10/dist-packages (from nltk) (8.1.7)\n",
            "Requirement already satisfied: joblib in /usr/local/lib/python3.10/dist-packages (from nltk) (1.3.2)\n",
            "Requirement already satisfied: regex>=2021.8.3 in /usr/local/lib/python3.10/dist-packages (from nltk) (2023.6.3)\n",
            "Requirement already satisfied: tqdm in /usr/local/lib/python3.10/dist-packages (from nltk) (4.66.1)\n"
          ]
        }
      ],
      "source": [
        "pip install docx2txt nltk"
      ]
    },
    {
      "cell_type": "code",
      "source": [
        "import nltk\n",
        "nltk.download('punkt')"
      ],
      "metadata": {
        "colab": {
          "base_uri": "https://localhost:8080/"
        },
        "id": "v2IqmblsG4hm",
        "outputId": "f44e2f82-c27e-4e92-c749-c8d1f38a4201"
      },
      "execution_count": 22,
      "outputs": [
        {
          "output_type": "stream",
          "name": "stderr",
          "text": [
            "[nltk_data] Downloading package punkt to /root/nltk_data...\n",
            "[nltk_data]   Package punkt is already up-to-date!\n"
          ]
        },
        {
          "output_type": "execute_result",
          "data": {
            "text/plain": [
              "True"
            ]
          },
          "metadata": {},
          "execution_count": 22
        }
      ]
    },
    {
      "cell_type": "code",
      "source": [
        "import docx2txt\n",
        "from nltk import word_tokenize, ngrams, FreqDist\n",
        "from collections import defaultdict\n",
        "\n",
        "text = docx2txt.process(\"/content/Standard Service Agreement.docx\")\n",
        "\n",
        "tokens = word_tokenize(text.lower())\n",
        "\n",
        "unigrams = FreqDist(tokens)\n",
        "bigrams = FreqDist(list(ngrams(tokens, 2)))\n",
        "trigrams = FreqDist(list(ngrams(tokens, 3)))\n",
        "\n",
        "top_unigrams = unigrams.most_common(100)\n",
        "\n",
        "top_bigrams = bigrams.most_common(100)"
      ],
      "metadata": {
        "id": "4BDxT9ViEIwv"
      },
      "execution_count": 23,
      "outputs": []
    },
    {
      "cell_type": "code",
      "source": [
        "print(\"Top 100 Unigrams:\")\n",
        "for word, freq in top_unigrams:\n",
        "    print(f\"{word}: {freq}\")\n",
        "\n",
        "print(\"\\nTop 100 Bigrams:\")\n",
        "for bigram, freq in top_bigrams:\n",
        "    print(f\"{' '.join(bigram)}: {freq}\")\n"
      ],
      "metadata": {
        "colab": {
          "base_uri": "https://localhost:8080/"
        },
        "id": "Mw22-IzIHhvE",
        "outputId": "12dfeefd-e35b-4924-9670-ed2cfe751f89"
      },
      "execution_count": 24,
      "outputs": [
        {
          "output_type": "stream",
          "name": "stdout",
          "text": [
            "Top 100 Unigrams:\n",
            ",: 542\n",
            "the: 488\n",
            "of: 314\n",
            "to: 280\n",
            "or: 269\n",
            "and: 261\n",
            "service: 201\n",
            "provider: 192\n",
            ".: 175\n",
            "netapp: 172\n",
            "in: 167\n",
            "any: 166\n",
            "shall: 137\n",
            "agreement: 125\n",
            "this: 121\n",
            "): 109\n",
            "(: 105\n",
            "by: 99\n",
            "be: 98\n",
            "such: 80\n",
            "information: 79\n",
            "for: 74\n",
            "its: 69\n",
            "as: 68\n",
            "a: 67\n",
            "with: 66\n",
            "party: 65\n",
            "that: 65\n",
            "not: 59\n",
            "other: 57\n",
            "all: 57\n",
            "is: 49\n",
            "under: 48\n",
            "’: 47\n",
            "s: 45\n",
            "may: 44\n",
            "personal: 44\n",
            ";: 43\n",
            "services: 37\n",
            "“: 36\n",
            "”: 35\n",
            "applicable: 35\n",
            ":: 31\n",
            "data: 31\n",
            "it: 30\n",
            "will: 29\n",
            "if: 28\n",
            "on: 27\n",
            "have: 27\n",
            "obligations: 27\n",
            "which: 26\n",
            "at: 26\n",
            "parties: 26\n",
            "including: 26\n",
            "event: 25\n",
            "rights: 23\n",
            "breach: 22\n",
            "has: 20\n",
            "right: 20\n",
            "notice: 20\n",
            "confidential: 19\n",
            "laws: 19\n",
            "from: 17\n",
            "provide: 17\n",
            "terms: 17\n",
            "time: 17\n",
            "made: 17\n",
            "agrees: 16\n",
            "otherwise: 16\n",
            "limited: 15\n",
            "property: 15\n",
            "written: 15\n",
            "within: 15\n",
            "performance: 15\n",
            "payment: 15\n",
            "writing: 15\n",
            "use: 15\n",
            "third: 15\n",
            "no: 15\n",
            "out: 14\n",
            "intellectual: 14\n",
            "term: 14\n",
            "responsible: 14\n",
            "audit: 14\n",
            "personnel: 14\n",
            "without: 14\n",
            "same: 13\n",
            "disclosing: 13\n",
            "disclosure: 13\n",
            "tax: 13\n",
            "government: 13\n",
            "prior: 13\n",
            "necessary: 13\n",
            "payments: 13\n",
            "company: 12\n",
            "authorized: 12\n",
            "law: 12\n",
            "receiving: 12\n",
            "termination: 12\n",
            "receipt: 12\n",
            "\n",
            "Top 100 Bigrams:\n",
            "service provider: 191\n",
            "this agreement: 103\n",
            "the service: 82\n",
            "to the: 57\n",
            "of the: 53\n",
            "provider shall: 47\n",
            "’ s: 42\n",
            "of this: 40\n",
            "by the: 39\n",
            "shall be: 38\n",
            "of any: 37\n",
            "in the: 36\n",
            "agreement .: 30\n",
            "under this: 30\n",
            "personal information: 29\n",
            ", or: 28\n",
            "agreement ,: 27\n",
            ". the: 27\n",
            "the services: 24\n",
            ". service: 24\n",
            ", service: 24\n",
            ", and: 23\n",
            "by netapp: 22\n",
            "to netapp: 21\n",
            "or any: 21\n",
            "with the: 19\n",
            "the parties: 19\n",
            ", the: 19\n",
            "right to: 19\n",
            "netapp ’: 18\n",
            "of netapp: 17\n",
            "of such: 16\n",
            "any other: 16\n",
            "or other: 16\n",
            "for the: 15\n",
            "confidential information: 15\n",
            "to any: 15\n",
            "may be: 15\n",
            "in writing: 15\n",
            "provider ’: 14\n",
            "and the: 14\n",
            "intellectual property: 14\n",
            "property rights: 14\n",
            "the right: 14\n",
            "of service: 14\n",
            "personal data: 14\n",
            "the event: 14\n",
            "” ): 13\n",
            ". netapp: 13\n",
            "of its: 13\n",
            "third party: 13\n",
            "have the: 12\n",
            ", in: 12\n",
            "not be: 12\n",
            "disclosing party: 12\n",
            "receiving party: 12\n",
            "for any: 12\n",
            "netapp .: 12\n",
            "netapp shall: 12\n",
            "netapp in: 12\n",
            "the terms: 11\n",
            "shall have: 11\n",
            "the same: 11\n",
            ", including: 11\n",
            "and other: 11\n",
            "the disclosing: 11\n",
            "that the: 11\n",
            "obligations under: 11\n",
            "limited to: 11\n",
            "provider agrees: 11\n",
            "shall not: 11\n",
            "applicable laws: 11\n",
            ". in: 11\n",
            "agreement shall: 11\n",
            "netapp may: 11\n",
            "or otherwise: 11\n",
            "connection with: 11\n",
            "be deemed: 10\n",
            "in this: 10\n",
            "netapp ,: 10\n",
            "agreement and: 10\n",
            "information ,: 10\n",
            "its obligations: 10\n",
            "including but: 10\n",
            "but not: 10\n",
            "not limited: 10\n",
            "the agreement: 10\n",
            "; (: 10\n",
            "the receiving: 10\n",
            "in connection: 10\n",
            "s personal: 10\n",
            "( “: 9\n",
            "; and: 9\n",
            "provider is: 9\n",
            ". “: 9\n",
            "party or: 9\n",
            "any such: 9\n",
            "( i: 9\n",
            "i ): 9\n",
            "( ii: 9\n"
          ]
        }
      ]
    },
    {
      "cell_type": "code",
      "source": [
        "def predict_next_word(input_word):\n",
        "    input_word = input_word.lower()\n",
        "    next_word_predictions = defaultdict(int)\n",
        "\n",
        "    for bigram, freq in top_bigrams:\n",
        "        if bigram[0] == input_word:\n",
        "            next_word_predictions[bigram[1]] = freq\n",
        "\n",
        "    if next_word_predictions:\n",
        "        return max(next_word_predictions, key=next_word_predictions.get)\n",
        "    else:\n",
        "        return \"No predictions found for the input word.\""
      ],
      "metadata": {
        "id": "IeCnvqk3IA2h"
      },
      "execution_count": 25,
      "outputs": []
    },
    {
      "cell_type": "code",
      "source": [
        "input_word = \"the\"\n",
        "predicted_next_word = predict_next_word(input_word)\n",
        "print(f\"\\nPredicted next word for '{input_word}': {predicted_next_word}\")"
      ],
      "metadata": {
        "colab": {
          "base_uri": "https://localhost:8080/"
        },
        "id": "GEcVXqz7HlDi",
        "outputId": "2c8c6125-6dae-4690-9330-8d128b350f19"
      },
      "execution_count": 26,
      "outputs": [
        {
          "output_type": "stream",
          "name": "stdout",
          "text": [
            "\n",
            "Predicted next word for 'the': service\n"
          ]
        }
      ]
    }
  ]
}