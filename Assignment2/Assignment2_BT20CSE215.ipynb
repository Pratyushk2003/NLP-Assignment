{
  "nbformat": 4,
  "nbformat_minor": 0,
  "metadata": {
    "colab": {
      "provenance": [],
      "include_colab_link": true
    },
    "kernelspec": {
      "name": "python3",
      "display_name": "Python 3"
    },
    "language_info": {
      "name": "python"
    }
  },
  "cells": [
    {
      "cell_type": "markdown",
      "metadata": {
        "id": "view-in-github",
        "colab_type": "text"
      },
      "source": [
        "<a href=\"https://colab.research.google.com/github/Pratyushk2003/NLP-Assignment/blob/main/Assignment2/Assignment2_BT20CSE215.ipynb\" target=\"_parent\"><img src=\"https://colab.research.google.com/assets/colab-badge.svg\" alt=\"Open In Colab\"/></a>"
      ]
    },
    {
      "cell_type": "code",
      "source": [
        "pip install python-docx"
      ],
      "metadata": {
        "colab": {
          "base_uri": "https://localhost:8080/"
        },
        "id": "JmMTB1ZCqyx7",
        "outputId": "8c71afb0-2018-42ad-ba01-c29827f1b99b"
      },
      "execution_count": 1,
      "outputs": [
        {
          "output_type": "stream",
          "name": "stdout",
          "text": [
            "Collecting python-docx\n",
            "  Downloading python-docx-0.8.11.tar.gz (5.6 MB)\n",
            "\u001b[2K     \u001b[90m━━━━━━━━━━━━━━━━━━━━━━━━━━━━━━━━━━━━━━━━\u001b[0m \u001b[32m5.6/5.6 MB\u001b[0m \u001b[31m17.6 MB/s\u001b[0m eta \u001b[36m0:00:00\u001b[0m\n",
            "\u001b[?25h  Preparing metadata (setup.py) ... \u001b[?25l\u001b[?25hdone\n",
            "Requirement already satisfied: lxml>=2.3.2 in /usr/local/lib/python3.10/dist-packages (from python-docx) (4.9.3)\n",
            "Building wheels for collected packages: python-docx\n",
            "  Building wheel for python-docx (setup.py) ... \u001b[?25l\u001b[?25hdone\n",
            "  Created wheel for python-docx: filename=python_docx-0.8.11-py3-none-any.whl size=184489 sha256=b28aef88d82415e9eb88751d7ff621e2565607ac338c89fe65515f4626d713cd\n",
            "  Stored in directory: /root/.cache/pip/wheels/80/27/06/837436d4c3bd989b957a91679966f207bfd71d358d63a8194d\n",
            "Successfully built python-docx\n",
            "Installing collected packages: python-docx\n",
            "Successfully installed python-docx-0.8.11\n"
          ]
        }
      ]
    },
    {
      "cell_type": "code",
      "execution_count": 2,
      "metadata": {
        "colab": {
          "base_uri": "https://localhost:8080/"
        },
        "id": "01nrvUM6oz89",
        "outputId": "139ce872-6335-4a12-c744-6f45e12f3862"
      },
      "outputs": [
        {
          "output_type": "stream",
          "name": "stderr",
          "text": [
            "[nltk_data] Downloading package punkt to /root/nltk_data...\n",
            "[nltk_data]   Unzipping tokenizers/punkt.zip.\n"
          ]
        },
        {
          "output_type": "stream",
          "name": "stdout",
          "text": [
            "TTR value: 0.17120291616038882\n",
            "TTR value after stop-word removal: 0.2806382978723404\n",
            "f*r values for top 100 frequent words: [('service', 201), ('provider', 364), ('netapp', 459), ('shall', 548), ('agreement', 625), ('information', 474), ('party', 427), ('may', 352), ('personal', 396), ('services', 370), ('applicable', 385), ('data', 384), ('obligations', 351), ('parties', 364), ('including', 390), ('event', 400), ('rights', 391), ('breach', 396), ('right', 380), ('notice', 400), ('confidential', 399), ('laws', 418), ('netapps', 437), ('provide', 408), ('terms', 425), ('time', 442), ('made', 459), ('agrees', 448), ('otherwise', 464), ('limited', 450), ('property', 465), ('written', 480), ('within', 495), ('performance', 510), ('payment', 525), ('writing', 540), ('use', 555), ('third', 570), ('intellectual', 546), ('term', 560), ('responsible', 574), ('audit', 588), ('personnel', 602), ('without', 616), ('disclosing', 585), ('disclosure', 598), ('tax', 611), ('government', 624), ('prior', 637), ('necessary', 650), ('payments', 663), ('company', 624), ('authorized', 636), ('law', 648), ('receiving', 660), ('termination', 672), ('providers', 684), ('receipt', 696), ('invoice', 708), ('case', 720), ('security', 732), ('act', 682), ('deemed', 693), ('business', 704), ('annexure', 715), ('gst', 726), ('required', 737), ('perform', 748), ('days', 759), ('compliance', 770), ('employees', 781), ('regulations', 792), ('provided', 803), ('provision', 814), ('connection', 825), ('thereof', 760), ('affiliates', 770), ('entity', 780), ('hereunder', 790), ('upon', 800), ('terminate', 810), ('clause', 820), ('privacy', 830), ('providing', 756), ('order', 765), ('ii', 774), ('period', 783), ('agree', 792), ('andor', 801), ('appropriate', 810), ('confidentiality', 819), ('date', 736), ('set', 744), ('relation', 752), ('accordance', 760), ('claims', 768), ('dispute', 776), ('agents', 784), ('relating', 792), ('documents', 800)]\n",
            "Dates: ['09/08/2023', '10-08-2023', '25th August 2023', '09/08/2023']\n",
            "Extracted Party Names: ['ABC Corporation', 'NetApp Internet Private Limited']\n"
          ]
        },
        {
          "output_type": "stream",
          "name": "stderr",
          "text": [
            "[nltk_data] Downloading package stopwords to /root/nltk_data...\n",
            "[nltk_data]   Unzipping corpora/stopwords.zip.\n"
          ]
        }
      ],
      "source": [
        "import docx\n",
        "import nltk\n",
        "import string\n",
        "import re\n",
        "from nltk.corpus import stopwords\n",
        "from nltk.probability import FreqDist\n",
        "from nltk.tokenize import word_tokenize\n",
        "from collections import Counter\n",
        "\n",
        "nltk.download('punkt')\n",
        "nltk.download('stopwords')\n",
        "\n",
        "\n",
        "def read_docx_text(docx_file_path):\n",
        "    doc = docx.Document(docx_file_path)\n",
        "    doc_text = \"\"\n",
        "    for paragraph in doc.paragraphs:\n",
        "        doc_text += paragraph.text + \"\\n\"\n",
        "    return doc_text\n",
        "\n",
        "def preprocess_text(text):\n",
        "    translator = str.maketrans('', '', string.punctuation + \"’“”\")\n",
        "    text = text.translate(translator)\n",
        "    return text.lower()\n",
        "\n",
        "def extract_party_names(text):\n",
        "    party_name_pattern = r'\\b(?:[A-Z][a-zA-Z\\s&.,]*?(?:Ltd|Limited|Corporation|Corp|Inc)\\.?)\\b'\n",
        "    party_names = re.findall(party_name_pattern, text)\n",
        "    return party_names\n",
        "\n",
        "if __name__ == \"__main__\":\n",
        "    input_file_path = \"/content/Assignment 2 input document.docx\"  # Replace with the path to your input document (PDF or DOCX)\n",
        "\n",
        "    # Step 1: Read and Extract Text from the Input Document\n",
        "    doc_text = read_docx_text(input_file_path)\n",
        "\n",
        "\n",
        "    # Step 2: Preprocess Text (lowercase and remove punctuation)\n",
        "    preprocessed_text = preprocess_text(doc_text)\n",
        "\n",
        "    # Step 3: Tokenize the Text\n",
        "    tokens = word_tokenize(preprocessed_text)\n",
        "\n",
        "    # Step 4: Calculate TTR (Type-Token Ratio)\n",
        "    unique_words = set(tokens)\n",
        "    ttr = len(unique_words) / len(tokens)\n",
        "    print(\"TTR value:\", ttr)\n",
        "\n",
        "    # Step 5: Apply Stop-Word Removal and Calculate TTR\n",
        "    stop_words = set(stopwords.words(\"english\"))\n",
        "    filtered_tokens = [token for token in tokens if token not in stop_words]\n",
        "    filtered_unique_words = set(filtered_tokens)\n",
        "    ttr_after_stopword_removal = len(filtered_unique_words) / len(filtered_tokens)\n",
        "    print(\"TTR value after stop-word removal:\", ttr_after_stopword_removal)\n",
        "\n",
        "    # Step 6: Find Top 100 Frequent Words and Calculate f*r (frequency * rank)\n",
        "    frequency_distribution = FreqDist(filtered_tokens)\n",
        "    most_common_words = frequency_distribution.most_common(100)\n",
        "    fr_values = [(word, freq * (i + 1)) for i, (word, freq) in enumerate(most_common_words)]\n",
        "    print(\"f*r values for top 100 frequent words:\", fr_values)\n",
        "\n",
        "    # Step 7: Extract Dates using Regular Expression\n",
        "    date_pattern = r'\\b(?:\\d{1,2}(?:st|nd|rd|th)?\\s+\\w+\\s+\\d{2,4}|\\w+\\s+\\d{1,2}(?:st|nd|rd|th)?\\s+\\d{2,4}|\\d{1,2}[-/]\\d{1,2}[-/]\\d{2,4}|\\d{2,4}[-/]\\d{1,2}[-/]\\d{1,2})\\b'\n",
        "    dates = re.findall(date_pattern, doc_text)\n",
        "    print(\"Dates:\", dates)\n",
        "\n",
        "\n",
        "    # Step 8: Extract Party Names using Improved Regular Expression\n",
        "    extracted_party_names = extract_party_names(doc_text)\n",
        "\n",
        "    # Filter out party names that contain unwanted words\n",
        "    unwanted_words = ['agreement', 'witness', 'parties', 'executed']\n",
        "    filtered_party_names = [name for name in extracted_party_names if not any(word in name.lower() for word in unwanted_words)]\n",
        "\n",
        "    # Deduplicate party names\n",
        "    unique_party_names = list(set(filtered_party_names))\n",
        "\n",
        "    print(\"Extracted Party Names:\", unique_party_names)\n"
      ]
    },
    {
      "cell_type": "code",
      "source": [
        "print(extracted_party_names)"
      ],
      "metadata": {
        "id": "e1uHD9jTJBk2",
        "outputId": "b1c64020-c492-4363-fb89-23863df59ee4",
        "colab": {
          "base_uri": "https://localhost:8080/"
        }
      },
      "execution_count": 3,
      "outputs": [
        {
          "output_type": "stream",
          "name": "stdout",
          "text": [
            "['NetApp Internet Private Limited', 'ABC Corporation', 'No modification, amendment or waiver of the terms and conditions of this Agreement shall be valid or binding unless made in writing and duly executed by the Parties. \\n\\n\\n\\nIN WITNESS WHEREOF the Parties have executed this Agreement through their Authorized Signatories.\\n\\n\\n\\n\\nFor NetApp Private Limited']\n"
          ]
        }
      ]
    },
    {
      "cell_type": "code",
      "source": [
        "print(\"TTR value:\", ttr)"
      ],
      "metadata": {
        "colab": {
          "base_uri": "https://localhost:8080/"
        },
        "id": "dC0z_hbdxyos",
        "outputId": "061287c9-2f63-4a67-9458-850bef5c5873"
      },
      "execution_count": 4,
      "outputs": [
        {
          "output_type": "stream",
          "name": "stdout",
          "text": [
            "TTR value: 0.17120291616038882\n"
          ]
        }
      ]
    },
    {
      "cell_type": "code",
      "source": [
        "print(\"TTR value after stop-word removal:\", ttr_after_stopword_removal)"
      ],
      "metadata": {
        "colab": {
          "base_uri": "https://localhost:8080/"
        },
        "id": "ZASPlkXDx8Y0",
        "outputId": "458ded1b-799b-4fb8-9b3c-4ed2544825ff"
      },
      "execution_count": 5,
      "outputs": [
        {
          "output_type": "stream",
          "name": "stdout",
          "text": [
            "TTR value after stop-word removal: 0.2806382978723404\n"
          ]
        }
      ]
    },
    {
      "cell_type": "code",
      "source": [
        "i = 1;\n",
        "for word, freq in fr_values:\n",
        "  print(i, word, \":\", freq)\n",
        "  i=i+1"
      ],
      "metadata": {
        "colab": {
          "base_uri": "https://localhost:8080/"
        },
        "id": "qboYyvHGyDWj",
        "outputId": "b972fc00-0250-4c55-8477-f27ba72d49f7"
      },
      "execution_count": 6,
      "outputs": [
        {
          "output_type": "stream",
          "name": "stdout",
          "text": [
            "1 service : 201\n",
            "2 provider : 364\n",
            "3 netapp : 459\n",
            "4 shall : 548\n",
            "5 agreement : 625\n",
            "6 information : 474\n",
            "7 party : 427\n",
            "8 may : 352\n",
            "9 personal : 396\n",
            "10 services : 370\n",
            "11 applicable : 385\n",
            "12 data : 384\n",
            "13 obligations : 351\n",
            "14 parties : 364\n",
            "15 including : 390\n",
            "16 event : 400\n",
            "17 rights : 391\n",
            "18 breach : 396\n",
            "19 right : 380\n",
            "20 notice : 400\n",
            "21 confidential : 399\n",
            "22 laws : 418\n",
            "23 netapps : 437\n",
            "24 provide : 408\n",
            "25 terms : 425\n",
            "26 time : 442\n",
            "27 made : 459\n",
            "28 agrees : 448\n",
            "29 otherwise : 464\n",
            "30 limited : 450\n",
            "31 property : 465\n",
            "32 written : 480\n",
            "33 within : 495\n",
            "34 performance : 510\n",
            "35 payment : 525\n",
            "36 writing : 540\n",
            "37 use : 555\n",
            "38 third : 570\n",
            "39 intellectual : 546\n",
            "40 term : 560\n",
            "41 responsible : 574\n",
            "42 audit : 588\n",
            "43 personnel : 602\n",
            "44 without : 616\n",
            "45 disclosing : 585\n",
            "46 disclosure : 598\n",
            "47 tax : 611\n",
            "48 government : 624\n",
            "49 prior : 637\n",
            "50 necessary : 650\n",
            "51 payments : 663\n",
            "52 company : 624\n",
            "53 authorized : 636\n",
            "54 law : 648\n",
            "55 receiving : 660\n",
            "56 termination : 672\n",
            "57 providers : 684\n",
            "58 receipt : 696\n",
            "59 invoice : 708\n",
            "60 case : 720\n",
            "61 security : 732\n",
            "62 act : 682\n",
            "63 deemed : 693\n",
            "64 business : 704\n",
            "65 annexure : 715\n",
            "66 gst : 726\n",
            "67 required : 737\n",
            "68 perform : 748\n",
            "69 days : 759\n",
            "70 compliance : 770\n",
            "71 employees : 781\n",
            "72 regulations : 792\n",
            "73 provided : 803\n",
            "74 provision : 814\n",
            "75 connection : 825\n",
            "76 thereof : 760\n",
            "77 affiliates : 770\n",
            "78 entity : 780\n",
            "79 hereunder : 790\n",
            "80 upon : 800\n",
            "81 terminate : 810\n",
            "82 clause : 820\n",
            "83 privacy : 830\n",
            "84 providing : 756\n",
            "85 order : 765\n",
            "86 ii : 774\n",
            "87 period : 783\n",
            "88 agree : 792\n",
            "89 andor : 801\n",
            "90 appropriate : 810\n",
            "91 confidentiality : 819\n",
            "92 date : 736\n",
            "93 set : 744\n",
            "94 relation : 752\n",
            "95 accordance : 760\n",
            "96 claims : 768\n",
            "97 dispute : 776\n",
            "98 agents : 784\n",
            "99 relating : 792\n",
            "100 documents : 800\n"
          ]
        }
      ]
    },
    {
      "cell_type": "code",
      "source": [
        "print(\"Dates:\", dates)"
      ],
      "metadata": {
        "colab": {
          "base_uri": "https://localhost:8080/"
        },
        "id": "WXnk7jufsyEU",
        "outputId": "98edc9b9-563f-4734-c121-e7e63e5f4e21"
      },
      "execution_count": 7,
      "outputs": [
        {
          "output_type": "stream",
          "name": "stdout",
          "text": [
            "Dates: ['09/08/2023', '10-08-2023', '25th August 2023', '09/08/2023']\n"
          ]
        }
      ]
    },
    {
      "cell_type": "code",
      "source": [
        "print(\"Extracted Party Names:\", unique_party_names)"
      ],
      "metadata": {
        "colab": {
          "base_uri": "https://localhost:8080/"
        },
        "id": "V3xrKwEtwreN",
        "outputId": "140b7ba1-b309-456e-f25b-1d5a50cf1a49"
      },
      "execution_count": 8,
      "outputs": [
        {
          "output_type": "stream",
          "name": "stdout",
          "text": [
            "Extracted Party Names: ['ABC Corporation', 'NetApp Internet Private Limited']\n"
          ]
        }
      ]
    }
  ]
}